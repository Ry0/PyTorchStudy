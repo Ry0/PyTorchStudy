{
 "nbformat": 4,
 "nbformat_minor": 2,
 "metadata": {
  "language_info": {
   "name": "python",
   "codemirror_mode": {
    "name": "ipython",
    "version": 3
   },
   "version": "3.7.6-final"
  },
  "orig_nbformat": 2,
  "file_extension": ".py",
  "mimetype": "text/x-python",
  "name": "python",
  "npconvert_exporter": "python",
  "pygments_lexer": "ipython3",
  "version": 3,
  "kernelspec": {
   "name": "python37664bitsandboxvenv435047afcc284cb185ac7842db907495",
   "display_name": "Python 3.7.6 64-bit ('sandbox': venv)"
  }
 },
 "cells": [
  {
   "cell_type": "markdown",
   "metadata": {},
   "source": [
    "# PytorchでVAEを試す。"
   ]
  },
  {
   "cell_type": "markdown",
   "metadata": {},
   "source": [
    "## データセットをダウンロード"
   ]
  },
  {
   "cell_type": "code",
   "execution_count": 1,
   "metadata": {},
   "outputs": [
    {
     "output_type": "error",
     "ename": "NameError",
     "evalue": "name 'torch' is not defined",
     "traceback": [
      "\u001b[0;31m---------------------------------------------------------------------------\u001b[0m",
      "\u001b[0;31mNameError\u001b[0m                                 Traceback (most recent call last)",
      "\u001b[0;32m<ipython-input-1-d5d154b375ef>\u001b[0m in \u001b[0;36m<module>\u001b[0;34m\u001b[0m\n\u001b[1;32m     16\u001b[0m     transform=transform)\n\u001b[1;32m     17\u001b[0m \u001b[0;34m\u001b[0m\u001b[0m\n\u001b[0;32m---> 18\u001b[0;31m dataloader_train = torch.utils.data.DataLoader(dataset_train,\n\u001b[0m\u001b[1;32m     19\u001b[0m                                           \u001b[0mbatch_size\u001b[0m\u001b[0;34m=\u001b[0m\u001b[0;36m1000\u001b[0m\u001b[0;34m,\u001b[0m\u001b[0;34m\u001b[0m\u001b[0;34m\u001b[0m\u001b[0m\n\u001b[1;32m     20\u001b[0m                                           \u001b[0mshuffle\u001b[0m\u001b[0;34m=\u001b[0m\u001b[0;32mTrue\u001b[0m\u001b[0;34m,\u001b[0m\u001b[0;34m\u001b[0m\u001b[0;34m\u001b[0m\u001b[0m\n",
      "\u001b[0;31mNameError\u001b[0m: name 'torch' is not defined"
     ]
    }
   ],
   "source": [
    "from torchvision import datasets, transforms\n",
    "\n",
    "transform = transforms.Compose([\n",
    "    transforms.ToTensor(), \n",
    "    transforms.Lambda(lambda x: x.view(-1))])\n",
    "\n",
    "dataset_train = datasets.MNIST(\n",
    "    '~/mnist', \n",
    "    train=True, \n",
    "    download=True, \n",
    "    transform=transform)\n",
    "dataset_valid = datasets.MNIST(\n",
    "    '~/mnist', \n",
    "    train=False, \n",
    "    download=True, \n",
    "    transform=transform)\n",
    "\n",
    "dataloader_train = torch.utils.data.DataLoader(dataset_train,\n",
    "                                          batch_size=1000,\n",
    "                                          shuffle=True,\n",
    "                                          num_workers=4)\n",
    "dataloader_valid = torch.utils.data.DataLoader(dataset_valid,\n",
    "                                          batch_size=1000,\n",
    "                                          shuffle=True,\n",
    "                                          num_workers=4)"
   ]
  },
  {
   "cell_type": "code",
   "execution_count": 2,
   "metadata": {},
   "outputs": [],
   "source": [
    "import torch\n",
    "import torch.nn as nn\n",
    "import torch.nn.functional as F\n",
    "\n",
    "device = 'cpu'\n",
    "\n",
    "class VAE(nn.Module):\n",
    "    def __init__(self, z_dim):\n",
    "      super(VAE, self).__init__()\n",
    "      self.dense_enc1 = nn.Linear(28*28, 200)\n",
    "      self.dense_enc2 = nn.Linear(200, 200)\n",
    "      self.dense_encmean = nn.Linear(200, z_dim)\n",
    "      self.dense_encvar = nn.Linear(200, z_dim)\n",
    "      self.dense_dec1 = nn.Linear(z_dim, 200)\n",
    "      self.dense_dec2 = nn.Linear(200, 200)\n",
    "      self.dense_dec3 = nn.Linear(200, 28*28)\n",
    "    \n",
    "    def _encoder(self, x):\n",
    "      x = F.relu(self.dense_enc1(x))\n",
    "      x = F.relu(self.dense_enc2(x))\n",
    "      mean = self.dense_encmean(x)\n",
    "      var = F.softplus(self.dense_encvar(x))\n",
    "      return mean, var\n",
    "    \n",
    "    def _sample_z(self, mean, var):\n",
    "      epsilon = torch.randn(mean.shape).to(device)\n",
    "      return mean + torch.sqrt(var) * epsilon\n",
    " \n",
    "    def _decoder(self, z):\n",
    "      x = F.relu(self.dense_dec1(z))\n",
    "      x = F.relu(self.dense_dec2(x))\n",
    "      x = F.sigmoid(self.dense_dec3(x))\n",
    "      return x\n",
    "\n",
    "    def forward(self, x):\n",
    "      mean, var = self._encoder(x)\n",
    "      z = self._sample_z(mean, var)\n",
    "      x = self._decoder(z)\n",
    "      return x, z\n",
    "    \n",
    "    def loss(self, x):\n",
    "      mean, var = self._encoder(x)\n",
    "      KL = -0.5 * torch.mean(torch.sum(1 + torch.log(var) - mean**2 - var))\n",
    "      z = self._sample_z(mean, var)\n",
    "      y = self._decoder(z)\n",
    "      reconstruction = torch.mean(torch.sum(x * torch.log(y) + (1 - x) * torch.log(1 - y)))\n",
    "      lower_bound = [-KL, reconstruction]                                      \n",
    "      return -sum(lower_bound)"
   ]
  },
  {
   "cell_type": "code",
   "execution_count": 3,
   "metadata": {},
   "outputs": [
    {
     "output_type": "error",
     "ename": "NameError",
     "evalue": "name 'dataloader_train' is not defined",
     "traceback": [
      "\u001b[0;31m---------------------------------------------------------------------------\u001b[0m",
      "\u001b[0;31mNameError\u001b[0m                                 Traceback (most recent call last)",
      "\u001b[0;32m<ipython-input-3-ee266a2d0c35>\u001b[0m in \u001b[0;36m<module>\u001b[0;34m\u001b[0m\n\u001b[1;32m      7\u001b[0m \u001b[0;32mfor\u001b[0m \u001b[0mi\u001b[0m \u001b[0;32min\u001b[0m \u001b[0mrange\u001b[0m\u001b[0;34m(\u001b[0m\u001b[0;36m20\u001b[0m\u001b[0;34m)\u001b[0m\u001b[0;34m:\u001b[0m\u001b[0;34m\u001b[0m\u001b[0;34m\u001b[0m\u001b[0m\n\u001b[1;32m      8\u001b[0m   \u001b[0mlosses\u001b[0m \u001b[0;34m=\u001b[0m \u001b[0;34m[\u001b[0m\u001b[0;34m]\u001b[0m\u001b[0;34m\u001b[0m\u001b[0;34m\u001b[0m\u001b[0m\n\u001b[0;32m----> 9\u001b[0;31m   \u001b[0;32mfor\u001b[0m \u001b[0mx\u001b[0m\u001b[0;34m,\u001b[0m \u001b[0mt\u001b[0m \u001b[0;32min\u001b[0m \u001b[0mdataloader_train\u001b[0m\u001b[0;34m:\u001b[0m\u001b[0;34m\u001b[0m\u001b[0;34m\u001b[0m\u001b[0m\n\u001b[0m\u001b[1;32m     10\u001b[0m       \u001b[0mx\u001b[0m \u001b[0;34m=\u001b[0m \u001b[0mx\u001b[0m\u001b[0;34m.\u001b[0m\u001b[0mto\u001b[0m\u001b[0;34m(\u001b[0m\u001b[0mdevice\u001b[0m\u001b[0;34m)\u001b[0m\u001b[0;34m\u001b[0m\u001b[0;34m\u001b[0m\u001b[0m\n\u001b[1;32m     11\u001b[0m       \u001b[0mmodel\u001b[0m\u001b[0;34m.\u001b[0m\u001b[0mzero_grad\u001b[0m\u001b[0;34m(\u001b[0m\u001b[0;34m)\u001b[0m\u001b[0;34m\u001b[0m\u001b[0;34m\u001b[0m\u001b[0m\n",
      "\u001b[0;31mNameError\u001b[0m: name 'dataloader_train' is not defined"
     ]
    }
   ],
   "source": [
    "import numpy as np\n",
    "from torch import optim\n",
    "\n",
    "model = VAE(10).to(device)\n",
    "optimizer = optim.Adam(model.parameters(), lr=0.001)\n",
    "model.train()\n",
    "for i in range(20):\n",
    "  losses = []\n",
    "  for x, t in dataloader_train:\n",
    "      x = x.to(device)\n",
    "      model.zero_grad()\n",
    "      y = model(x)\n",
    "      loss = model.loss(x)\n",
    "      loss.backward()\n",
    "      optimizer.step()\n",
    "      losses.append(loss.cpu().detach().numpy())\n",
    "  print(\"EPOCH: {} loss: {}\".format(i, np.average(losses)))"
   ]
  },
  {
   "cell_type": "code",
   "execution_count": null,
   "metadata": {},
   "outputs": [],
   "source": []
  }
 ]
}